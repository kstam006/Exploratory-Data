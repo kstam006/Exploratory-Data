{
  "nbformat": 4,
  "nbformat_minor": 0,
  "metadata": {
    "colab": {
      "name": "Copy of Homework 3-1",
      "version": "0.3.2",
      "provenance": [],
      "collapsed_sections": [],
      "include_colab_link": true
    },
    "kernelspec": {
      "name": "python3",
      "display_name": "Python 3"
    }
  },
  "cells": [
    {
      "cell_type": "markdown",
      "metadata": {
        "id": "view-in-github",
        "colab_type": "text"
      },
      "source": [
        "<a href=\"https://colab.research.google.com/github/kstam006/Exploratory-Data/blob/master/Copy_of_Homework_3_1.ipynb\" target=\"_parent\"><img src=\"https://colab.research.google.com/assets/colab-badge.svg\" alt=\"Open In Colab\"/></a>"
      ]
    },
    {
      "metadata": {
        "id": "f4hzDsBLqOiQ",
        "colab_type": "code",
        "colab": {}
      },
      "cell_type": "code",
      "source": [
        "import numpy as pd \n",
        "import pandas as pd"
      ],
      "execution_count": 0,
      "outputs": []
    },
    {
      "metadata": {
        "id": "EMdABSPMqbFw",
        "colab_type": "code",
        "colab": {}
      },
      "cell_type": "code",
      "source": [
        "loansData = pd.read_csv(\"https://spark-public.s3.amazonaws.com/dataanalysis/loansData.csv\")"
      ],
      "execution_count": 0,
      "outputs": []
    },
    {
      "metadata": {
        "id": "4KQsCN_OyN4X",
        "colab_type": "code",
        "outputId": "bda0f759-dce0-44df-86af-4213a9cbdbe3",
        "colab": {
          "base_uri": "https://localhost:8080/",
          "height": 244
        }
      },
      "cell_type": "code",
      "source": [
        "loansData.head()"
      ],
      "execution_count": 0,
      "outputs": [
        {
          "output_type": "execute_result",
          "data": {
            "text/html": [
              "<div>\n",
              "<style scoped>\n",
              "    .dataframe tbody tr th:only-of-type {\n",
              "        vertical-align: middle;\n",
              "    }\n",
              "\n",
              "    .dataframe tbody tr th {\n",
              "        vertical-align: top;\n",
              "    }\n",
              "\n",
              "    .dataframe thead th {\n",
              "        text-align: right;\n",
              "    }\n",
              "</style>\n",
              "<table border=\"1\" class=\"dataframe\">\n",
              "  <thead>\n",
              "    <tr style=\"text-align: right;\">\n",
              "      <th></th>\n",
              "      <th>Amount.Requested</th>\n",
              "      <th>Amount.Funded.By.Investors</th>\n",
              "      <th>Interest.Rate</th>\n",
              "      <th>Loan.Length</th>\n",
              "      <th>Loan.Purpose</th>\n",
              "      <th>Debt.To.Income.Ratio</th>\n",
              "      <th>State</th>\n",
              "      <th>Home.Ownership</th>\n",
              "      <th>Monthly.Income</th>\n",
              "      <th>FICO.Range</th>\n",
              "      <th>Open.CREDIT.Lines</th>\n",
              "      <th>Revolving.CREDIT.Balance</th>\n",
              "      <th>Inquiries.in.the.Last.6.Months</th>\n",
              "      <th>Employment.Length</th>\n",
              "    </tr>\n",
              "  </thead>\n",
              "  <tbody>\n",
              "    <tr>\n",
              "      <th>81174</th>\n",
              "      <td>20000</td>\n",
              "      <td>20000.0</td>\n",
              "      <td>8.90%</td>\n",
              "      <td>36 months</td>\n",
              "      <td>debt_consolidation</td>\n",
              "      <td>14.90%</td>\n",
              "      <td>SC</td>\n",
              "      <td>MORTGAGE</td>\n",
              "      <td>6541.67</td>\n",
              "      <td>735-739</td>\n",
              "      <td>14.0</td>\n",
              "      <td>14272.0</td>\n",
              "      <td>2.0</td>\n",
              "      <td>&lt; 1 year</td>\n",
              "    </tr>\n",
              "    <tr>\n",
              "      <th>99592</th>\n",
              "      <td>19200</td>\n",
              "      <td>19200.0</td>\n",
              "      <td>12.12%</td>\n",
              "      <td>36 months</td>\n",
              "      <td>debt_consolidation</td>\n",
              "      <td>28.36%</td>\n",
              "      <td>TX</td>\n",
              "      <td>MORTGAGE</td>\n",
              "      <td>4583.33</td>\n",
              "      <td>715-719</td>\n",
              "      <td>12.0</td>\n",
              "      <td>11140.0</td>\n",
              "      <td>1.0</td>\n",
              "      <td>2 years</td>\n",
              "    </tr>\n",
              "    <tr>\n",
              "      <th>80059</th>\n",
              "      <td>35000</td>\n",
              "      <td>35000.0</td>\n",
              "      <td>21.98%</td>\n",
              "      <td>60 months</td>\n",
              "      <td>debt_consolidation</td>\n",
              "      <td>23.81%</td>\n",
              "      <td>CA</td>\n",
              "      <td>MORTGAGE</td>\n",
              "      <td>11500.00</td>\n",
              "      <td>690-694</td>\n",
              "      <td>14.0</td>\n",
              "      <td>21977.0</td>\n",
              "      <td>1.0</td>\n",
              "      <td>2 years</td>\n",
              "    </tr>\n",
              "    <tr>\n",
              "      <th>15825</th>\n",
              "      <td>10000</td>\n",
              "      <td>9975.0</td>\n",
              "      <td>9.99%</td>\n",
              "      <td>36 months</td>\n",
              "      <td>debt_consolidation</td>\n",
              "      <td>14.30%</td>\n",
              "      <td>KS</td>\n",
              "      <td>MORTGAGE</td>\n",
              "      <td>3833.33</td>\n",
              "      <td>695-699</td>\n",
              "      <td>10.0</td>\n",
              "      <td>9346.0</td>\n",
              "      <td>0.0</td>\n",
              "      <td>5 years</td>\n",
              "    </tr>\n",
              "    <tr>\n",
              "      <th>33182</th>\n",
              "      <td>12000</td>\n",
              "      <td>12000.0</td>\n",
              "      <td>11.71%</td>\n",
              "      <td>36 months</td>\n",
              "      <td>credit_card</td>\n",
              "      <td>18.78%</td>\n",
              "      <td>NJ</td>\n",
              "      <td>RENT</td>\n",
              "      <td>3195.00</td>\n",
              "      <td>695-699</td>\n",
              "      <td>11.0</td>\n",
              "      <td>14469.0</td>\n",
              "      <td>0.0</td>\n",
              "      <td>9 years</td>\n",
              "    </tr>\n",
              "  </tbody>\n",
              "</table>\n",
              "</div>"
            ],
            "text/plain": [
              "       Amount.Requested  Amount.Funded.By.Investors Interest.Rate Loan.Length  \\\n",
              "81174             20000                     20000.0         8.90%   36 months   \n",
              "99592             19200                     19200.0        12.12%   36 months   \n",
              "80059             35000                     35000.0        21.98%   60 months   \n",
              "15825             10000                      9975.0         9.99%   36 months   \n",
              "33182             12000                     12000.0        11.71%   36 months   \n",
              "\n",
              "             Loan.Purpose Debt.To.Income.Ratio State Home.Ownership  \\\n",
              "81174  debt_consolidation               14.90%    SC       MORTGAGE   \n",
              "99592  debt_consolidation               28.36%    TX       MORTGAGE   \n",
              "80059  debt_consolidation               23.81%    CA       MORTGAGE   \n",
              "15825  debt_consolidation               14.30%    KS       MORTGAGE   \n",
              "33182         credit_card               18.78%    NJ           RENT   \n",
              "\n",
              "       Monthly.Income FICO.Range  Open.CREDIT.Lines  Revolving.CREDIT.Balance  \\\n",
              "81174         6541.67    735-739               14.0                   14272.0   \n",
              "99592         4583.33    715-719               12.0                   11140.0   \n",
              "80059        11500.00    690-694               14.0                   21977.0   \n",
              "15825         3833.33    695-699               10.0                    9346.0   \n",
              "33182         3195.00    695-699               11.0                   14469.0   \n",
              "\n",
              "       Inquiries.in.the.Last.6.Months Employment.Length  \n",
              "81174                             2.0          < 1 year  \n",
              "99592                             1.0           2 years  \n",
              "80059                             1.0           2 years  \n",
              "15825                             0.0           5 years  \n",
              "33182                             0.0           9 years  "
            ]
          },
          "metadata": {
            "tags": []
          },
          "execution_count": 32
        }
      ]
    },
    {
      "metadata": {
        "id": "PVtidttIOOQ1",
        "colab_type": "code",
        "outputId": "3eccaa26-0830-4804-fe11-183d72e925ec",
        "colab": {
          "base_uri": "https://localhost:8080/",
          "height": 34
        }
      },
      "cell_type": "code",
      "source": [
        "%pylab inline\n",
        "import pandas as pd\n",
        "loansData = pd.read_csv('https://spark-public.s3.amazonaws.com/dataanalysis/loansData.csv')"
      ],
      "execution_count": 0,
      "outputs": [
        {
          "output_type": "stream",
          "text": [
            "Populating the interactive namespace from numpy and matplotlib\n"
          ],
          "name": "stdout"
        }
      ]
    },
    {
      "metadata": {
        "id": "emKb9V-8OWTg",
        "colab_type": "code",
        "outputId": "3373e870-f7cd-412b-9208-6dac3290ca3b",
        "colab": {
          "base_uri": "https://localhost:8080/",
          "height": 119
        }
      },
      "cell_type": "code",
      "source": [
        "loansData['Interest.Rate'][0:5]"
      ],
      "execution_count": 0,
      "outputs": [
        {
          "output_type": "execute_result",
          "data": {
            "text/plain": [
              "81174     8.90%\n",
              "99592    12.12%\n",
              "80059    21.98%\n",
              "15825     9.99%\n",
              "33182    11.71%\n",
              "Name: Interest.Rate, dtype: object"
            ]
          },
          "metadata": {
            "tags": []
          },
          "execution_count": 6
        }
      ]
    },
    {
      "metadata": {
        "id": "IaENKEVxOd7V",
        "colab_type": "code",
        "outputId": "e7cf9862-f218-4005-a67f-bd8366ae808d",
        "colab": {
          "base_uri": "https://localhost:8080/",
          "height": 119
        }
      },
      "cell_type": "code",
      "source": [
        "loansData['Loan.Length'][0:5]"
      ],
      "execution_count": 0,
      "outputs": [
        {
          "output_type": "execute_result",
          "data": {
            "text/plain": [
              "81174    36 months\n",
              "99592    36 months\n",
              "80059    60 months\n",
              "15825    36 months\n",
              "33182    36 months\n",
              "Name: Loan.Length, dtype: object"
            ]
          },
          "metadata": {
            "tags": []
          },
          "execution_count": 7
        }
      ]
    },
    {
      "metadata": {
        "id": "-vUyHzZPOfJx",
        "colab_type": "code",
        "outputId": "00ed0441-d999-4b78-909a-bf6cd8409342",
        "colab": {
          "base_uri": "https://localhost:8080/",
          "height": 119
        }
      },
      "cell_type": "code",
      "source": [
        "loansData['FICO.Range'][0:5]"
      ],
      "execution_count": 0,
      "outputs": [
        {
          "output_type": "execute_result",
          "data": {
            "text/plain": [
              "81174    735-739\n",
              "99592    715-719\n",
              "80059    690-694\n",
              "15825    695-699\n",
              "33182    695-699\n",
              "Name: FICO.Range, dtype: object"
            ]
          },
          "metadata": {
            "tags": []
          },
          "execution_count": 8
        }
      ]
    },
    {
      "metadata": {
        "id": "LnvG9jiZ0vuP",
        "colab_type": "code",
        "colab": {}
      },
      "cell_type": "code",
      "source": [
        "import pandas as pd\n",
        "import numpy as np\n",
        "import matplotlib.pyplot as plt \n",
        "import seaborn as sns"
      ],
      "execution_count": 0,
      "outputs": []
    },
    {
      "metadata": {
        "id": "VkVa35LoUEg1",
        "colab_type": "code",
        "outputId": "6778bbcd-08ce-45fe-9e1e-6029198556ac",
        "colab": {
          "base_uri": "https://localhost:8080/",
          "height": 416
        }
      },
      "cell_type": "code",
      "source": [
        "plt.figure('Interest.Rate')\n",
        "loansData.hist()"
      ],
      "execution_count": 0,
      "outputs": [
        {
          "output_type": "execute_result",
          "data": {
            "text/plain": [
              "array([[<matplotlib.axes._subplots.AxesSubplot object at 0x7f8fb8f8d438>,\n",
              "        <matplotlib.axes._subplots.AxesSubplot object at 0x7f8fb91d4470>],\n",
              "       [<matplotlib.axes._subplots.AxesSubplot object at 0x7f8fb8dc1dd8>,\n",
              "        <matplotlib.axes._subplots.AxesSubplot object at 0x7f8fb8d6f780>],\n",
              "       [<matplotlib.axes._subplots.AxesSubplot object at 0x7f8fb8d9d128>,\n",
              "        <matplotlib.axes._subplots.AxesSubplot object at 0x7f8fb8d41a90>]],\n",
              "      dtype=object)"
            ]
          },
          "metadata": {
            "tags": []
          },
          "execution_count": 48
        },
        {
          "output_type": "display_data",
          "data": {
            "text/plain": [
              "<Figure size 432x288 with 0 Axes>"
            ]
          },
          "metadata": {
            "tags": []
          }
        },
        {
          "output_type": "display_data",
          "data": {
            "image/png": "[encoded data removed]",
            "text/plain": [
              "<Figure size 432x288 with 6 Axes>"
            ]
          },
          "metadata": {
            "tags": []
          }
        }
      ]
    },
    {
      "metadata": {
        "id": "5xM00BmM1UZ4",
        "colab_type": "code",
        "outputId": "844fa98c-cd95-4e03-84b8-50a783abc6f4",
        "colab": {
          "base_uri": "https://localhost:8080/",
          "height": 275
        }
      },
      "cell_type": "code",
      "source": [
        "loansData.corr()"
      ],
      "execution_count": 0,
      "outputs": [
        {
          "output_type": "execute_result",
          "data": {
            "text/html": [
              "<div>\n",
              "<style scoped>\n",
              "    .dataframe tbody tr th:only-of-type {\n",
              "        vertical-align: middle;\n",
              "    }\n",
              "\n",
              "    .dataframe tbody tr th {\n",
              "        vertical-align: top;\n",
              "    }\n",
              "\n",
              "    .dataframe thead th {\n",
              "        text-align: right;\n",
              "    }\n",
              "</style>\n",
              "<table border=\"1\" class=\"dataframe\">\n",
              "  <thead>\n",
              "    <tr style=\"text-align: right;\">\n",
              "      <th></th>\n",
              "      <th>Amount.Requested</th>\n",
              "      <th>Amount.Funded.By.Investors</th>\n",
              "      <th>Monthly.Income</th>\n",
              "      <th>Open.CREDIT.Lines</th>\n",
              "      <th>Revolving.CREDIT.Balance</th>\n",
              "      <th>Inquiries.in.the.Last.6.Months</th>\n",
              "    </tr>\n",
              "  </thead>\n",
              "  <tbody>\n",
              "    <tr>\n",
              "      <th>Amount.Requested</th>\n",
              "      <td>1.000000</td>\n",
              "      <td>0.969845</td>\n",
              "      <td>0.389570</td>\n",
              "      <td>0.195942</td>\n",
              "      <td>0.293365</td>\n",
              "      <td>-0.029561</td>\n",
              "    </tr>\n",
              "    <tr>\n",
              "      <th>Amount.Funded.By.Investors</th>\n",
              "      <td>0.969845</td>\n",
              "      <td>1.000000</td>\n",
              "      <td>0.372359</td>\n",
              "      <td>0.185826</td>\n",
              "      <td>0.261892</td>\n",
              "      <td>-0.067757</td>\n",
              "    </tr>\n",
              "    <tr>\n",
              "      <th>Monthly.Income</th>\n",
              "      <td>0.389570</td>\n",
              "      <td>0.372359</td>\n",
              "      <td>1.000000</td>\n",
              "      <td>0.171396</td>\n",
              "      <td>0.359684</td>\n",
              "      <td>0.033948</td>\n",
              "    </tr>\n",
              "    <tr>\n",
              "      <th>Open.CREDIT.Lines</th>\n",
              "      <td>0.195942</td>\n",
              "      <td>0.185826</td>\n",
              "      <td>0.171396</td>\n",
              "      <td>1.000000</td>\n",
              "      <td>0.290085</td>\n",
              "      <td>0.110736</td>\n",
              "    </tr>\n",
              "    <tr>\n",
              "      <th>Revolving.CREDIT.Balance</th>\n",
              "      <td>0.293365</td>\n",
              "      <td>0.261892</td>\n",
              "      <td>0.359684</td>\n",
              "      <td>0.290085</td>\n",
              "      <td>1.000000</td>\n",
              "      <td>0.012186</td>\n",
              "    </tr>\n",
              "    <tr>\n",
              "      <th>Inquiries.in.the.Last.6.Months</th>\n",
              "      <td>-0.029561</td>\n",
              "      <td>-0.067757</td>\n",
              "      <td>0.033948</td>\n",
              "      <td>0.110736</td>\n",
              "      <td>0.012186</td>\n",
              "      <td>1.000000</td>\n",
              "    </tr>\n",
              "  </tbody>\n",
              "</table>\n",
              "</div>"
            ],
            "text/plain": [
              "                                Amount.Requested  Amount.Funded.By.Investors  \\\n",
              "Amount.Requested                        1.000000                    0.969845   \n",
              "Amount.Funded.By.Investors              0.969845                    1.000000   \n",
              "Monthly.Income                          0.389570                    0.372359   \n",
              "Open.CREDIT.Lines                       0.195942                    0.185826   \n",
              "Revolving.CREDIT.Balance                0.293365                    0.261892   \n",
              "Inquiries.in.the.Last.6.Months         -0.029561                   -0.067757   \n",
              "\n",
              "                                Monthly.Income  Open.CREDIT.Lines  \\\n",
              "Amount.Requested                      0.389570           0.195942   \n",
              "Amount.Funded.By.Investors            0.372359           0.185826   \n",
              "Monthly.Income                        1.000000           0.171396   \n",
              "Open.CREDIT.Lines                     0.171396           1.000000   \n",
              "Revolving.CREDIT.Balance              0.359684           0.290085   \n",
              "Inquiries.in.the.Last.6.Months        0.033948           0.110736   \n",
              "\n",
              "                                Revolving.CREDIT.Balance  \\\n",
              "Amount.Requested                                0.293365   \n",
              "Amount.Funded.By.Investors                      0.261892   \n",
              "Monthly.Income                                  0.359684   \n",
              "Open.CREDIT.Lines                               0.290085   \n",
              "Revolving.CREDIT.Balance                        1.000000   \n",
              "Inquiries.in.the.Last.6.Months                  0.012186   \n",
              "\n",
              "                                Inquiries.in.the.Last.6.Months  \n",
              "Amount.Requested                                     -0.029561  \n",
              "Amount.Funded.By.Investors                           -0.067757  \n",
              "Monthly.Income                                        0.033948  \n",
              "Open.CREDIT.Lines                                     0.110736  \n",
              "Revolving.CREDIT.Balance                              0.012186  \n",
              "Inquiries.in.the.Last.6.Months                        1.000000  "
            ]
          },
          "metadata": {
            "tags": []
          },
          "execution_count": 67
        }
      ]
    },
    {
      "metadata": {
        "id": "s8vlKnU7DSH4",
        "colab_type": "code",
        "colab": {}
      },
      "cell_type": "code",
      "source": [
        "import numpy as pd \n",
        "import pandas as pd"
      ],
      "execution_count": 0,
      "outputs": []
    },
    {
      "metadata": {
        "id": "a0giivvSDVMD",
        "colab_type": "code",
        "colab": {}
      },
      "cell_type": "code",
      "source": [
        "dataSet = pd.read_csv(\"https://raw.githubusercontent.com/nborwankar/LearnDataScience/master/datasets/loanf.csv\")"
      ],
      "execution_count": 0,
      "outputs": []
    },
    {
      "metadata": {
        "id": "Binx1HSYDnQ7",
        "colab_type": "code",
        "outputId": "fe199920-48a5-4774-c1f9-992b877395fb",
        "colab": {
          "base_uri": "https://localhost:8080/",
          "height": 204
        }
      },
      "cell_type": "code",
      "source": [
        "dataSet.head()"
      ],
      "execution_count": 0,
      "outputs": [
        {
          "output_type": "execute_result",
          "data": {
            "text/html": [
              "<div>\n",
              "<style scoped>\n",
              "    .dataframe tbody tr th:only-of-type {\n",
              "        vertical-align: middle;\n",
              "    }\n",
              "\n",
              "    .dataframe tbody tr th {\n",
              "        vertical-align: top;\n",
              "    }\n",
              "\n",
              "    .dataframe thead th {\n",
              "        text-align: right;\n",
              "    }\n",
              "</style>\n",
              "<table border=\"1\" class=\"dataframe\">\n",
              "  <thead>\n",
              "    <tr style=\"text-align: right;\">\n",
              "      <th></th>\n",
              "      <th>Interest.Rate</th>\n",
              "      <th>FICO.Score</th>\n",
              "      <th>Loan.Length</th>\n",
              "      <th>Monthly.Income</th>\n",
              "      <th>Loan.Amount</th>\n",
              "    </tr>\n",
              "  </thead>\n",
              "  <tbody>\n",
              "    <tr>\n",
              "      <th>6</th>\n",
              "      <td>15.31</td>\n",
              "      <td>670</td>\n",
              "      <td>36</td>\n",
              "      <td>4891.67</td>\n",
              "      <td>6000</td>\n",
              "    </tr>\n",
              "    <tr>\n",
              "      <th>11</th>\n",
              "      <td>19.72</td>\n",
              "      <td>670</td>\n",
              "      <td>36</td>\n",
              "      <td>3575.00</td>\n",
              "      <td>2000</td>\n",
              "    </tr>\n",
              "    <tr>\n",
              "      <th>12</th>\n",
              "      <td>14.27</td>\n",
              "      <td>665</td>\n",
              "      <td>36</td>\n",
              "      <td>4250.00</td>\n",
              "      <td>10625</td>\n",
              "    </tr>\n",
              "    <tr>\n",
              "      <th>13</th>\n",
              "      <td>21.67</td>\n",
              "      <td>670</td>\n",
              "      <td>60</td>\n",
              "      <td>14166.67</td>\n",
              "      <td>28000</td>\n",
              "    </tr>\n",
              "    <tr>\n",
              "      <th>21</th>\n",
              "      <td>21.98</td>\n",
              "      <td>665</td>\n",
              "      <td>36</td>\n",
              "      <td>6666.67</td>\n",
              "      <td>22000</td>\n",
              "    </tr>\n",
              "  </tbody>\n",
              "</table>\n",
              "</div>"
            ],
            "text/plain": [
              "    Interest.Rate  FICO.Score  Loan.Length  Monthly.Income  Loan.Amount\n",
              "6           15.31         670           36         4891.67         6000\n",
              "11          19.72         670           36         3575.00         2000\n",
              "12          14.27         665           36         4250.00        10625\n",
              "13          21.67         670           60        14166.67        28000\n",
              "21          21.98         665           36         6666.67        22000"
            ]
          },
          "metadata": {
            "tags": []
          },
          "execution_count": 137
        }
      ]
    },
    {
      "metadata": {
        "id": "HSdgjZAxD7wK",
        "colab_type": "code",
        "outputId": "11a2b67a-eb64-4f47-a811-72d05bffddfe",
        "colab": {
          "base_uri": "https://localhost:8080/",
          "height": 204
        }
      },
      "cell_type": "code",
      "source": [
        "dataSet['TF']=dataSet['Interest.Rate']<=12\n",
        "dataSet.head()"
      ],
      "execution_count": 0,
      "outputs": [
        {
          "output_type": "execute_result",
          "data": {
            "text/html": [
              "<div>\n",
              "<style scoped>\n",
              "    .dataframe tbody tr th:only-of-type {\n",
              "        vertical-align: middle;\n",
              "    }\n",
              "\n",
              "    .dataframe tbody tr th {\n",
              "        vertical-align: top;\n",
              "    }\n",
              "\n",
              "    .dataframe thead th {\n",
              "        text-align: right;\n",
              "    }\n",
              "</style>\n",
              "<table border=\"1\" class=\"dataframe\">\n",
              "  <thead>\n",
              "    <tr style=\"text-align: right;\">\n",
              "      <th></th>\n",
              "      <th>Interest.Rate</th>\n",
              "      <th>FICO.Score</th>\n",
              "      <th>Loan.Length</th>\n",
              "      <th>Monthly.Income</th>\n",
              "      <th>Loan.Amount</th>\n",
              "      <th>TF</th>\n",
              "    </tr>\n",
              "  </thead>\n",
              "  <tbody>\n",
              "    <tr>\n",
              "      <th>6</th>\n",
              "      <td>15.31</td>\n",
              "      <td>670</td>\n",
              "      <td>36</td>\n",
              "      <td>4891.67</td>\n",
              "      <td>6000</td>\n",
              "      <td>False</td>\n",
              "    </tr>\n",
              "    <tr>\n",
              "      <th>11</th>\n",
              "      <td>19.72</td>\n",
              "      <td>670</td>\n",
              "      <td>36</td>\n",
              "      <td>3575.00</td>\n",
              "      <td>2000</td>\n",
              "      <td>False</td>\n",
              "    </tr>\n",
              "    <tr>\n",
              "      <th>12</th>\n",
              "      <td>14.27</td>\n",
              "      <td>665</td>\n",
              "      <td>36</td>\n",
              "      <td>4250.00</td>\n",
              "      <td>10625</td>\n",
              "      <td>False</td>\n",
              "    </tr>\n",
              "    <tr>\n",
              "      <th>13</th>\n",
              "      <td>21.67</td>\n",
              "      <td>670</td>\n",
              "      <td>60</td>\n",
              "      <td>14166.67</td>\n",
              "      <td>28000</td>\n",
              "      <td>False</td>\n",
              "    </tr>\n",
              "    <tr>\n",
              "      <th>21</th>\n",
              "      <td>21.98</td>\n",
              "      <td>665</td>\n",
              "      <td>36</td>\n",
              "      <td>6666.67</td>\n",
              "      <td>22000</td>\n",
              "      <td>False</td>\n",
              "    </tr>\n",
              "  </tbody>\n",
              "</table>\n",
              "</div>"
            ],
            "text/plain": [
              "    Interest.Rate  FICO.Score  Loan.Length  Monthly.Income  Loan.Amount     TF\n",
              "6           15.31         670           36         4891.67         6000  False\n",
              "11          19.72         670           36         3575.00         2000  False\n",
              "12          14.27         665           36         4250.00        10625  False\n",
              "13          21.67         670           60        14166.67        28000  False\n",
              "21          21.98         665           36         6666.67        22000  False"
            ]
          },
          "metadata": {
            "tags": []
          },
          "execution_count": 140
        }
      ]
    },
    {
      "metadata": {
        "id": "re8VPrUFEOOE",
        "colab_type": "code",
        "outputId": "59dae9f0-31bf-4648-d2ec-fb07ad06dad5",
        "colab": {
          "base_uri": "https://localhost:8080/",
          "height": 204
        }
      },
      "cell_type": "code",
      "source": [
        "d = dataSet[dataSet['Interest.Rate']==10]\n",
        "d.head()"
      ],
      "execution_count": 0,
      "outputs": [
        {
          "output_type": "execute_result",
          "data": {
            "text/html": [
              "<div>\n",
              "<style scoped>\n",
              "    .dataframe tbody tr th:only-of-type {\n",
              "        vertical-align: middle;\n",
              "    }\n",
              "\n",
              "    .dataframe tbody tr th {\n",
              "        vertical-align: top;\n",
              "    }\n",
              "\n",
              "    .dataframe thead th {\n",
              "        text-align: right;\n",
              "    }\n",
              "</style>\n",
              "<table border=\"1\" class=\"dataframe\">\n",
              "  <thead>\n",
              "    <tr style=\"text-align: right;\">\n",
              "      <th></th>\n",
              "      <th>Interest.Rate</th>\n",
              "      <th>FICO.Score</th>\n",
              "      <th>Loan.Length</th>\n",
              "      <th>Monthly.Income</th>\n",
              "      <th>Loan.Amount</th>\n",
              "      <th>TF</th>\n",
              "    </tr>\n",
              "  </thead>\n",
              "  <tbody>\n",
              "    <tr>\n",
              "      <th>650</th>\n",
              "      <td>10.0</td>\n",
              "      <td>700</td>\n",
              "      <td>36</td>\n",
              "      <td>3250.00</td>\n",
              "      <td>2800</td>\n",
              "      <td>True</td>\n",
              "    </tr>\n",
              "    <tr>\n",
              "      <th>204</th>\n",
              "      <td>10.0</td>\n",
              "      <td>715</td>\n",
              "      <td>36</td>\n",
              "      <td>15416.67</td>\n",
              "      <td>6000</td>\n",
              "      <td>True</td>\n",
              "    </tr>\n",
              "    <tr>\n",
              "      <th>440</th>\n",
              "      <td>10.0</td>\n",
              "      <td>730</td>\n",
              "      <td>36</td>\n",
              "      <td>6250.00</td>\n",
              "      <td>21000</td>\n",
              "      <td>True</td>\n",
              "    </tr>\n",
              "    <tr>\n",
              "      <th>521</th>\n",
              "      <td>10.0</td>\n",
              "      <td>715</td>\n",
              "      <td>36</td>\n",
              "      <td>5000.00</td>\n",
              "      <td>12000</td>\n",
              "      <td>True</td>\n",
              "    </tr>\n",
              "    <tr>\n",
              "      <th>1017</th>\n",
              "      <td>10.0</td>\n",
              "      <td>735</td>\n",
              "      <td>60</td>\n",
              "      <td>4000.00</td>\n",
              "      <td>5000</td>\n",
              "      <td>True</td>\n",
              "    </tr>\n",
              "  </tbody>\n",
              "</table>\n",
              "</div>"
            ],
            "text/plain": [
              "      Interest.Rate  FICO.Score  Loan.Length  Monthly.Income  Loan.Amount  \\\n",
              "650            10.0         700           36         3250.00         2800   \n",
              "204            10.0         715           36        15416.67         6000   \n",
              "440            10.0         730           36         6250.00        21000   \n",
              "521            10.0         715           36         5000.00        12000   \n",
              "1017           10.0         735           60         4000.00         5000   \n",
              "\n",
              "        TF  \n",
              "650   True  \n",
              "204   True  \n",
              "440   True  \n",
              "521   True  \n",
              "1017  True  "
            ]
          },
          "metadata": {
            "tags": []
          },
          "execution_count": 141
        }
      ]
    },
    {
      "metadata": {
        "id": "sSZdmroBEds3",
        "colab_type": "code",
        "outputId": "fd3d6f01-16ba-41be-ea5e-789b1b1b5e61",
        "colab": {
          "base_uri": "https://localhost:8080/",
          "height": 68
        }
      },
      "cell_type": "code",
      "source": [
        "import statsmodels.api as sm\n",
        "dataSet['intercept']=1.0\n",
        "ind_cols=['FICO.Score','Loan.Amount','intercept']\n",
        "logit = sm.Logit(dataSet['TF'], dataSet[ind_cols])\n",
        "result=logit.fit()"
      ],
      "execution_count": 0,
      "outputs": [
        {
          "output_type": "stream",
          "text": [
            "Optimization terminated successfully.\n",
            "         Current function value: 0.319503\n",
            "         Iterations 8\n"
          ],
          "name": "stdout"
        }
      ]
    },
    {
      "metadata": {
        "id": "xuIcKyHZEub3",
        "colab_type": "code",
        "outputId": "4406ebbd-0a10-4806-a04f-a3ebaeed65ba",
        "colab": {
          "base_uri": "https://localhost:8080/",
          "height": 85
        }
      },
      "cell_type": "code",
      "source": [
        "coeff = result.params\n",
        "print (coeff)"
      ],
      "execution_count": 0,
      "outputs": [
        {
          "output_type": "stream",
          "text": [
            "FICO.Score      0.087423\n",
            "Loan.Amount    -0.000174\n",
            "intercept     -60.125045\n",
            "dtype: float64\n"
          ],
          "name": "stdout"
        }
      ]
    },
    {
      "metadata": {
        "id": "jWZ_PHYIE7La",
        "colab_type": "code",
        "outputId": "05ba74d3-3b32-4f9a-cedc-0b4648450bb2",
        "colab": {
          "base_uri": "https://localhost:8080/",
          "height": 34
        }
      },
      "cell_type": "code",
      "source": [
        "def pz(fico,amt,coeff):\n",
        "  z = coeff[0]*fico + coeff[1]*amt + coeff[2]\n",
        "  return 1/(1+exp(-1*z))\n",
        "pz(720,10000,coeff)"
      ],
      "execution_count": 0,
      "outputs": [
        {
          "output_type": "execute_result",
          "data": {
            "text/plain": [
              "0.7463785889515134"
            ]
          },
          "metadata": {
            "tags": []
          },
          "execution_count": 162
        }
      ]
    },
    {
      "metadata": {
        "id": "yTy3C3KYFyT8",
        "colab_type": "code",
        "outputId": "ccb7d5eb-3c59-44bf-b647-1df155b725da",
        "colab": {
          "base_uri": "https://localhost:8080/",
          "height": 255
        }
      },
      "cell_type": "code",
      "source": [
        "print(\"Trying multiple FICO Loan Amount combinations: \")\n",
        "print('----')\n",
        "print(\"fico=720, amt=10,000\")\n",
        "print(pz(720,10000,coeff))\n",
        "print(\"fico=720, amt=20,000\")\n",
        "print(pz(720,20000,coeff))\n",
        "print(\"fico=720, amt=30,000\")\n",
        "print(pz(720,30000,coeff))\n",
        "print(\"fico=820, amt=10,000\")\n",
        "print(pz(820,10000,coeff))\n",
        "print(\"fico=820, amt=20,000\")\n",
        "print(pz(820,20000,coeff))\n",
        "print(\"fico=820, amt=30,000\")\n",
        "print(pz(820,30000,coeff))"
      ],
      "execution_count": 0,
      "outputs": [
        {
          "output_type": "stream",
          "text": [
            "Trying multiple FICO Loan Amount combinations: \n",
            "----\n",
            "fico=720, amt=10,000\n",
            "0.7463785889515134\n",
            "fico=720, amt=20,000\n",
            "0.3405398576881749\n",
            "fico=720, amt=30,000\n",
            "0.08308359523703432\n",
            "fico=820, amt=10,000\n",
            "0.9999457423271543\n",
            "fico=820, amt=20,000\n",
            "0.9996908677522978\n",
            "fico=820, amt=30,000\n",
            "0.9982408301380601\n"
          ],
          "name": "stdout"
        }
      ]
    }
  ]
}